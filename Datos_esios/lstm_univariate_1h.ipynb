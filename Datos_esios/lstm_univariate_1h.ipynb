{
 "cells": [
  {
   "cell_type": "markdown",
   "metadata": {},
   "source": [
    "LSTM univariate 1h"
   ]
  },
  {
   "cell_type": "code",
   "execution_count": 1,
   "metadata": {},
   "outputs": [
    {
     "ename": "ModuleNotFoundError",
     "evalue": "No module named 'numpy'",
     "output_type": "error",
     "traceback": [
      "\u001b[1;31m---------------------------------------------------------------------------\u001b[0m",
      "\u001b[1;31mModuleNotFoundError\u001b[0m                       Traceback (most recent call last)",
      "Cell \u001b[1;32mIn[1], line 1\u001b[0m\n\u001b[1;32m----> 1\u001b[0m \u001b[39mimport\u001b[39;00m \u001b[39mnumpy\u001b[39;00m \u001b[39mas\u001b[39;00m \u001b[39mnp\u001b[39;00m\n\u001b[0;32m      2\u001b[0m \u001b[39mimport\u001b[39;00m \u001b[39mpandas\u001b[39;00m \u001b[39mas\u001b[39;00m \u001b[39mpd\u001b[39;00m\n\u001b[0;32m      3\u001b[0m \u001b[39mimport\u001b[39;00m \u001b[39mmatplotlib\u001b[39;00m\u001b[39m.\u001b[39;00m\u001b[39mpyplot\u001b[39;00m \u001b[39mas\u001b[39;00m \u001b[39mplt\u001b[39;00m\n",
      "\u001b[1;31mModuleNotFoundError\u001b[0m: No module named 'numpy'"
     ]
    }
   ],
   "source": [
    "import numpy as np\n",
    "import pandas as pd\n",
    "import matplotlib.pyplot as plt\n",
    "\n",
    "df = pd.read_csv('dataset.csv',sep = ';', nrows = 17544)\n",
    "\n",
    "a = [str(date) for date in df['datetime']]\n",
    "a = [date[:-6] for date in a]\n",
    "date_time = pd.to_datetime(a)\n",
    "\n",
    "df.loc[:,['datetime']] = date_time\n",
    "df = df.set_index('datetime') \n",
    "df = df[['precio_spot']]\n",
    "# Feature scaling\n",
    "\n",
    "from sklearn.preprocessing import MinMaxScaler\n",
    "sc = MinMaxScaler(feature_range = (0, 1))\n",
    "scaled_set = sc.fit_transform(df[['precio_spot']])"
   ]
  },
  {
   "cell_type": "markdown",
   "metadata": {},
   "source": []
  },
  {
   "cell_type": "code",
   "execution_count": 2,
   "metadata": {},
   "outputs": [
    {
     "data": {
      "text/plain": [
       "True"
      ]
     },
     "execution_count": 2,
     "metadata": {},
     "output_type": "execute_result"
    }
   ],
   "source": [
    "\n",
    "X_train = []\n",
    "y_train = []\n",
    "X_val = []\n",
    "y_val = []\n",
    "X_test = []\n",
    "y_test = []\n",
    "\n",
    "\n",
    "train_hours = int(0.7*(len(df))+2)\n",
    "validation_hours = int(0.15*(len(df)))\n",
    "test_hours = int(0.15*(len(df)))\n",
    "\n",
    "train_hours + validation_hours + test_hours == len(df) "
   ]
  },
  {
   "cell_type": "code",
   "execution_count": 3,
   "metadata": {},
   "outputs": [],
   "source": [
    "\n",
    "n_lags = 48\n",
    "\n",
    "# Training set\n",
    "for i in range(n_lags, train_hours): # len(X_train) = 1258 - 60 = 1198\n",
    "    X_train.append(scaled_set[i-n_lags:i, 0])\n",
    "    y_train.append(scaled_set[i, 0])\n",
    "X_train, y_train = np.array(X_train), np.array(y_train)\n",
    "\n",
    "len(X_train)\n",
    "\n",
    "# Validation set\n",
    "for i in range(train_hours, train_hours + validation_hours): # len(X_train) = 1258 - 60 = 1198\n",
    "    X_val.append(scaled_set[i-n_lags:i, 0])\n",
    "    y_val.append(scaled_set[i, 0])\n",
    "X_val, y_val = np.array(X_val), np.array(y_val)\n",
    "\n",
    "len(X_val)\n",
    "\n",
    "# Test set\n",
    "for i in range(train_hours + validation_hours, len(df)): # len(X_train) = 1258 - 60 = 1198\n",
    "    X_test.append(scaled_set[i-n_lags:i, 0])\n",
    "    y_test.append(scaled_set[i, 0])\n",
    "X_test, y_test = np.array(X_test), np.array(y_test)\n",
    "\n",
    "# X_test = np.reshape(X_test, (X_test.shape[1], X_test.shape[2], 1))\n",
    "# y_test = np.reshape(y_test, (y_test.shape[1], 1))\n",
    "\n",
    "len(X_test)\n",
    "\n",
    "# Reshaping\n",
    "X_train.shape\n",
    "y_train.shape\n",
    "\n",
    "X_val.shape\n",
    "y_val.shape\n",
    "\n",
    "X_test.shape\n",
    "y_test.shape\n",
    "\n",
    "X_train = np.reshape(X_train, (X_train.shape[0], X_train.shape[1], 1))\n",
    "y_train = np.reshape(y_train, (y_train.shape[0], 1))\n",
    "\n",
    "X_val = np.reshape(X_val, (X_val.shape[0], X_val.shape[1], 1))\n",
    "y_val = np.reshape(y_val, (y_val.shape[0], 1))\n",
    "\n",
    "X_test = np.reshape(X_test, (X_test.shape[0], X_test.shape[1], 1))\n",
    "y_test = np.reshape(y_test, (y_test.shape[0], 1))\n",
    "\n"
   ]
  },
  {
   "cell_type": "code",
   "execution_count": 4,
   "metadata": {},
   "outputs": [
    {
     "ename": "ModuleNotFoundError",
     "evalue": "No module named 'keras'",
     "output_type": "error",
     "traceback": [
      "\u001b[1;31m---------------------------------------------------------------------------\u001b[0m",
      "\u001b[1;31mModuleNotFoundError\u001b[0m                       Traceback (most recent call last)",
      "Cell \u001b[1;32mIn [4], line 1\u001b[0m\n\u001b[1;32m----> 1\u001b[0m \u001b[39mfrom\u001b[39;00m \u001b[39mkeras\u001b[39;00m\u001b[39m.\u001b[39;00m\u001b[39mmodels\u001b[39;00m \u001b[39mimport\u001b[39;00m Sequential\n\u001b[0;32m      2\u001b[0m \u001b[39mfrom\u001b[39;00m \u001b[39mkeras\u001b[39;00m\u001b[39m.\u001b[39;00m\u001b[39mlayers\u001b[39;00m \u001b[39mimport\u001b[39;00m Dense\n\u001b[0;32m      3\u001b[0m \u001b[39mfrom\u001b[39;00m \u001b[39mkeras\u001b[39;00m\u001b[39m.\u001b[39;00m\u001b[39mlayers\u001b[39;00m \u001b[39mimport\u001b[39;00m LSTM\n",
      "\u001b[1;31mModuleNotFoundError\u001b[0m: No module named 'keras'"
     ]
    }
   ],
   "source": [
    "from keras.models import Sequential\n",
    "from keras.layers import Dense\n",
    "from keras.layers import LSTM\n",
    "from keras.layers import Dropout\n",
    "from tensorflow.keras.callbacks import ModelCheckpoint\n",
    "\n",
    "# Initializing the RNN\n",
    "regressor = Sequential()\n",
    "\n",
    "# Adding first LSTM layer and some Dropout regularisation\n",
    "regressor.add(LSTM(units = 50, return_sequences = True, input_shape = (X_train.shape[1], 1)))\n",
    "regressor.add(Dropout(0.2))\n",
    "\n",
    "# Adding a second LSTM layer and some Dropout regularisation\n",
    "regressor.add(LSTM(units = 50, return_sequences = True))\n",
    "regressor.add(Dropout(0.2))\n",
    "\n",
    "# Adding a second LSTM layer and some Dropout regularisation\n",
    "regressor.add(LSTM(units = 50, return_sequences = True))\n",
    "regressor.add(Dropout(0.2))\n",
    "\n",
    "# Adding a third LSTM layer and some Dropout regularisation\n",
    "regressor.add(LSTM(units = 50, return_sequences = False))\n",
    "regressor.add(Dropout(0.2))\n",
    "\n",
    "# Adding an output layer\n",
    "regressor.add(Dense(units=1))\n",
    "\n",
    "regressor.summary()"
   ]
  },
  {
   "cell_type": "code",
   "execution_count": null,
   "metadata": {},
   "outputs": [],
   "source": [
    "\n",
    "# Fitting the RNN to the training set\n",
    "regressor.fit(X_train, y_train, validation_data=(X_val, y_val), epochs = 20, batch_size = 32, callbacks=[cp1]) # Batch size to be loaded in the RAM indirectly \n",
    "\n",
    "plt.plot(range(len(regressor.history.history['loss'])), regressor.history.history['loss'])\n",
    "plt.xlabel('Epoch number')\n",
    "plt.ylabel('Loss')\n",
    "plt.show()"
   ]
  },
  {
   "cell_type": "code",
   "execution_count": null,
   "metadata": {},
   "outputs": [],
   "source": [
    "test_predictions = regressor.predict(X_test)\n"
   ]
  },
  {
   "cell_type": "code",
   "execution_count": null,
   "metadata": {},
   "outputs": [],
   "source": [
    "\n",
    "# TEST\n",
    "test_predictions = []\n",
    "test_predictions = regressor.predict(X_test)\n",
    "# test_predictions = sc.inverse_transform(test_predictions)\n",
    "test_results = pd.DataFrame(data={'Test Predictions':test_predictions, 'Actuals':y_test}, index = test_index)\n",
    "test_results\n",
    "\n",
    "# Plotting test set\n",
    "plt.plot(test_results['Test Predictions'])\n",
    "plt.plot(test_results['Actuals'])\n",
    "\n",
    "plt.plot(y_test, color = 'blue')\n",
    "plt.plot(test_predictions, color = 'green')"
   ]
  }
 ],
 "metadata": {
  "kernelspec": {
   "display_name": "Python 3.9.15 ('tfm')",
   "language": "python",
   "name": "python3"
  },
  "language_info": {
   "codemirror_mode": {
    "name": "ipython",
    "version": 3
   },
   "file_extension": ".py",
   "mimetype": "text/x-python",
   "name": "python",
   "nbconvert_exporter": "python",
   "pygments_lexer": "ipython3",
   "version": "3.9.15"
  },
  "orig_nbformat": 4,
  "vscode": {
   "interpreter": {
    "hash": "6d83648057cffb20f26195198fc31bb8aad4148a4cb271acbde3b309541cb7a8"
   }
  }
 },
 "nbformat": 4,
 "nbformat_minor": 2
}
